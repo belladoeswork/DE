{
 "cells": [
  {
   "cell_type": "code",
   "execution_count": 1,
   "id": "f1574557-6594-40f2-bcc6-18aa1b3ebe48",
   "metadata": {},
   "outputs": [
    {
     "name": "stdout",
     "output_type": "stream",
     "text": [
      "hello world in codespace\n"
     ]
    }
   ],
   "source": [
    "print(\"hello world in codespace\")\n"
   ]
  },
  {
   "cell_type": "code",
   "execution_count": null,
   "id": "f28542f3-9164-45e2-a1e2-9fc95cd9f88d",
   "metadata": {},
   "outputs": [],
   "source": []
  }
 ],
 "metadata": {
  "kernelspec": {
   "display_name": "Python 3 (ipykernel)",
   "language": "python",
   "name": "python3"
  },
  "language_info": {
   "codemirror_mode": {
    "name": "ipython",
    "version": 3
   },
   "file_extension": ".py",
   "mimetype": "text/x-python",
   "name": "python",
   "nbconvert_exporter": "python",
   "pygments_lexer": "ipython3",
   "version": "3.10.13"
  }
 },
 "nbformat": 4,
 "nbformat_minor": 5
}
